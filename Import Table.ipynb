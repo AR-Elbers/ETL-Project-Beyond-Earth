{
 "metadata": {
  "language_info": {
   "codemirror_mode": {
    "name": "ipython",
    "version": 3
   },
   "file_extension": ".py",
   "mimetype": "text/x-python",
   "name": "python",
   "nbconvert_exporter": "python",
   "pygments_lexer": "ipython3",
   "version": "3.8.3-final"
  },
  "orig_nbformat": 2,
  "kernelspec": {
   "name": "python3",
   "display_name": "Python 3"
  }
 },
 "nbformat": 4,
 "nbformat_minor": 2,
 "cells": [
  {
   "cell_type": "code",
   "execution_count": 41,
   "metadata": {},
   "outputs": [],
   "source": [
    "import pandas as pd\n",
    "from sqlalchemy import create_engine, inspect"
   ]
  },
  {
   "cell_type": "code",
   "execution_count": 42,
   "metadata": {},
   "outputs": [],
   "source": [
    "# pip install psycopg2"
   ]
  },
  {
   "cell_type": "code",
   "execution_count": 43,
   "metadata": {},
   "outputs": [
    {
     "output_type": "execute_result",
     "data": {
      "text/plain": [
       "    Planet      Mass  Diameter  Density  Gravity  Escape Velocity  \\\n",
       "0  Mercury     0.330      4879     5427      3.7              4.3   \n",
       "1    Venus     4.870     12104     5243      8.9             10.4   \n",
       "2    Earth     5.970     12756     5514      9.8             11.2   \n",
       "3     Mars     0.642      6792     3933      3.7              5.0   \n",
       "4  Jupiter  1898.000    142984     1326     23.1             59.5   \n",
       "\n",
       "   Rotation Period  Length of Day  Distance from Sun  Perihelion  Aphelion  \\\n",
       "0           1407.6         4222.6               57.9        46.0      69.8   \n",
       "1          -5832.5         2802.0              108.2       107.5     108.9   \n",
       "2             23.9           24.0              149.6       147.1     152.1   \n",
       "3             24.6           24.7              227.9       206.6     249.2   \n",
       "4              9.9            9.9              778.6       740.5     816.6   \n",
       "\n",
       "   Orbital Period  Orbital Velocity  Orbital Inclination  \\\n",
       "0            88.0              47.4                  7.0   \n",
       "1           224.7              35.0                  3.4   \n",
       "2           365.2              29.8                  0.0   \n",
       "3           687.0              24.1                  1.9   \n",
       "4          4331.0              13.1                  1.3   \n",
       "\n",
       "   Orbital Eccentricity  Obliquity to Orbit  Mean Temperature  \\\n",
       "0                 0.205               0.034               167   \n",
       "1                 0.007             177.400               464   \n",
       "2                 0.017              23.400                15   \n",
       "3                 0.094              25.200               -65   \n",
       "4                 0.049               3.100              -110   \n",
       "\n",
       "   Number of Moons Ring System?  \n",
       "0                0           No  \n",
       "1                0           No  \n",
       "2                1           No  \n",
       "3                2           No  \n",
       "4               79          Yes  "
      ],
      "text/html": "<div>\n<style scoped>\n    .dataframe tbody tr th:only-of-type {\n        vertical-align: middle;\n    }\n\n    .dataframe tbody tr th {\n        vertical-align: top;\n    }\n\n    .dataframe thead th {\n        text-align: right;\n    }\n</style>\n<table border=\"1\" class=\"dataframe\">\n  <thead>\n    <tr style=\"text-align: right;\">\n      <th></th>\n      <th>Planet</th>\n      <th>Mass</th>\n      <th>Diameter</th>\n      <th>Density</th>\n      <th>Gravity</th>\n      <th>Escape Velocity</th>\n      <th>Rotation Period</th>\n      <th>Length of Day</th>\n      <th>Distance from Sun</th>\n      <th>Perihelion</th>\n      <th>Aphelion</th>\n      <th>Orbital Period</th>\n      <th>Orbital Velocity</th>\n      <th>Orbital Inclination</th>\n      <th>Orbital Eccentricity</th>\n      <th>Obliquity to Orbit</th>\n      <th>Mean Temperature</th>\n      <th>Number of Moons</th>\n      <th>Ring System?</th>\n    </tr>\n  </thead>\n  <tbody>\n    <tr>\n      <th>0</th>\n      <td>Mercury</td>\n      <td>0.330</td>\n      <td>4879</td>\n      <td>5427</td>\n      <td>3.7</td>\n      <td>4.3</td>\n      <td>1407.6</td>\n      <td>4222.6</td>\n      <td>57.9</td>\n      <td>46.0</td>\n      <td>69.8</td>\n      <td>88.0</td>\n      <td>47.4</td>\n      <td>7.0</td>\n      <td>0.205</td>\n      <td>0.034</td>\n      <td>167</td>\n      <td>0</td>\n      <td>No</td>\n    </tr>\n    <tr>\n      <th>1</th>\n      <td>Venus</td>\n      <td>4.870</td>\n      <td>12104</td>\n      <td>5243</td>\n      <td>8.9</td>\n      <td>10.4</td>\n      <td>-5832.5</td>\n      <td>2802.0</td>\n      <td>108.2</td>\n      <td>107.5</td>\n      <td>108.9</td>\n      <td>224.7</td>\n      <td>35.0</td>\n      <td>3.4</td>\n      <td>0.007</td>\n      <td>177.400</td>\n      <td>464</td>\n      <td>0</td>\n      <td>No</td>\n    </tr>\n    <tr>\n      <th>2</th>\n      <td>Earth</td>\n      <td>5.970</td>\n      <td>12756</td>\n      <td>5514</td>\n      <td>9.8</td>\n      <td>11.2</td>\n      <td>23.9</td>\n      <td>24.0</td>\n      <td>149.6</td>\n      <td>147.1</td>\n      <td>152.1</td>\n      <td>365.2</td>\n      <td>29.8</td>\n      <td>0.0</td>\n      <td>0.017</td>\n      <td>23.400</td>\n      <td>15</td>\n      <td>1</td>\n      <td>No</td>\n    </tr>\n    <tr>\n      <th>3</th>\n      <td>Mars</td>\n      <td>0.642</td>\n      <td>6792</td>\n      <td>3933</td>\n      <td>3.7</td>\n      <td>5.0</td>\n      <td>24.6</td>\n      <td>24.7</td>\n      <td>227.9</td>\n      <td>206.6</td>\n      <td>249.2</td>\n      <td>687.0</td>\n      <td>24.1</td>\n      <td>1.9</td>\n      <td>0.094</td>\n      <td>25.200</td>\n      <td>-65</td>\n      <td>2</td>\n      <td>No</td>\n    </tr>\n    <tr>\n      <th>4</th>\n      <td>Jupiter</td>\n      <td>1898.000</td>\n      <td>142984</td>\n      <td>1326</td>\n      <td>23.1</td>\n      <td>59.5</td>\n      <td>9.9</td>\n      <td>9.9</td>\n      <td>778.6</td>\n      <td>740.5</td>\n      <td>816.6</td>\n      <td>4331.0</td>\n      <td>13.1</td>\n      <td>1.3</td>\n      <td>0.049</td>\n      <td>3.100</td>\n      <td>-110</td>\n      <td>79</td>\n      <td>Yes</td>\n    </tr>\n  </tbody>\n</table>\n</div>"
     },
     "metadata": {},
     "execution_count": 43
    }
   ],
   "source": [
    "fact_file = \"Transformed_Data/planetary_fact_sheet_transformed.csv\"\n",
    "fact_df = pd.read_csv(fact_file)\n",
    "fact_df.head()"
   ]
  },
  {
   "cell_type": "code",
   "execution_count": 44,
   "metadata": {},
   "outputs": [
    {
     "output_type": "execute_result",
     "data": {
      "text/plain": [
       "              Mass  Diameter  Density  Gravity  Escape Velocity  \\\n",
       "Planet                                                            \n",
       "Mercury     0.3300      4879     5427      3.7              4.3   \n",
       "Venus       4.8700     12104     5243      8.9             10.4   \n",
       "Earth       5.9700     12756     5514      9.8             11.2   \n",
       "Mars        0.6420      6792     3933      3.7              5.0   \n",
       "Jupiter  1898.0000    142984     1326     23.1             59.5   \n",
       "Saturn    568.0000    120536      687      9.0             35.5   \n",
       "Uranus     86.8000     51118     1271      8.7             21.3   \n",
       "Neptune   102.0000     49528     1638     11.0             23.5   \n",
       "Pluto       0.0146      2370     2095      0.7              1.3   \n",
       "\n",
       "         Rotation Period  Length of Day  Distance from Sun  Perihelion  \\\n",
       "Planet                                                                   \n",
       "Mercury           1407.6         4222.6               57.9        46.0   \n",
       "Venus            -5832.5         2802.0              108.2       107.5   \n",
       "Earth               23.9           24.0              149.6       147.1   \n",
       "Mars                24.6           24.7              227.9       206.6   \n",
       "Jupiter              9.9            9.9              778.6       740.5   \n",
       "Saturn              10.7           10.7             1433.5      1352.6   \n",
       "Uranus             -17.2           17.2             2872.5      2741.3   \n",
       "Neptune             16.1           16.1             4495.1      4444.5   \n",
       "Pluto             -153.3          153.3             5906.4      4436.8   \n",
       "\n",
       "         Aphelion  Orbital Period  Orbital Velocity  Orbital Inclination  \\\n",
       "Planet                                                                     \n",
       "Mercury      69.8            88.0              47.4                  7.0   \n",
       "Venus       108.9           224.7              35.0                  3.4   \n",
       "Earth       152.1           365.2              29.8                  0.0   \n",
       "Mars        249.2           687.0              24.1                  1.9   \n",
       "Jupiter     816.6          4331.0              13.1                  1.3   \n",
       "Saturn     1514.5         10747.0               9.7                  2.5   \n",
       "Uranus     3003.6         30589.0               6.8                  0.8   \n",
       "Neptune    4545.7         59800.0               5.4                  1.8   \n",
       "Pluto      7375.9         90560.0               4.7                 17.2   \n",
       "\n",
       "         Orbital Eccentricity  Obliquity to Orbit  Mean Temperature  \\\n",
       "Planet                                                                \n",
       "Mercury                 0.205               0.034               167   \n",
       "Venus                   0.007             177.400               464   \n",
       "Earth                   0.017              23.400                15   \n",
       "Mars                    0.094              25.200               -65   \n",
       "Jupiter                 0.049               3.100              -110   \n",
       "Saturn                  0.057              26.700              -140   \n",
       "Uranus                  0.046              97.800              -195   \n",
       "Neptune                 0.011              28.300              -200   \n",
       "Pluto                   0.244             122.500              -225   \n",
       "\n",
       "         Number of Moons Ring System?  \n",
       "Planet                                 \n",
       "Mercury                0           No  \n",
       "Venus                  0           No  \n",
       "Earth                  1           No  \n",
       "Mars                   2           No  \n",
       "Jupiter               79          Yes  \n",
       "Saturn                82          Yes  \n",
       "Uranus                27          Yes  \n",
       "Neptune               14          Yes  \n",
       "Pluto                  5           No  "
      ],
      "text/html": "<div>\n<style scoped>\n    .dataframe tbody tr th:only-of-type {\n        vertical-align: middle;\n    }\n\n    .dataframe tbody tr th {\n        vertical-align: top;\n    }\n\n    .dataframe thead th {\n        text-align: right;\n    }\n</style>\n<table border=\"1\" class=\"dataframe\">\n  <thead>\n    <tr style=\"text-align: right;\">\n      <th></th>\n      <th>Mass</th>\n      <th>Diameter</th>\n      <th>Density</th>\n      <th>Gravity</th>\n      <th>Escape Velocity</th>\n      <th>Rotation Period</th>\n      <th>Length of Day</th>\n      <th>Distance from Sun</th>\n      <th>Perihelion</th>\n      <th>Aphelion</th>\n      <th>Orbital Period</th>\n      <th>Orbital Velocity</th>\n      <th>Orbital Inclination</th>\n      <th>Orbital Eccentricity</th>\n      <th>Obliquity to Orbit</th>\n      <th>Mean Temperature</th>\n      <th>Number of Moons</th>\n      <th>Ring System?</th>\n    </tr>\n    <tr>\n      <th>Planet</th>\n      <th></th>\n      <th></th>\n      <th></th>\n      <th></th>\n      <th></th>\n      <th></th>\n      <th></th>\n      <th></th>\n      <th></th>\n      <th></th>\n      <th></th>\n      <th></th>\n      <th></th>\n      <th></th>\n      <th></th>\n      <th></th>\n      <th></th>\n      <th></th>\n    </tr>\n  </thead>\n  <tbody>\n    <tr>\n      <th>Mercury</th>\n      <td>0.3300</td>\n      <td>4879</td>\n      <td>5427</td>\n      <td>3.7</td>\n      <td>4.3</td>\n      <td>1407.6</td>\n      <td>4222.6</td>\n      <td>57.9</td>\n      <td>46.0</td>\n      <td>69.8</td>\n      <td>88.0</td>\n      <td>47.4</td>\n      <td>7.0</td>\n      <td>0.205</td>\n      <td>0.034</td>\n      <td>167</td>\n      <td>0</td>\n      <td>No</td>\n    </tr>\n    <tr>\n      <th>Venus</th>\n      <td>4.8700</td>\n      <td>12104</td>\n      <td>5243</td>\n      <td>8.9</td>\n      <td>10.4</td>\n      <td>-5832.5</td>\n      <td>2802.0</td>\n      <td>108.2</td>\n      <td>107.5</td>\n      <td>108.9</td>\n      <td>224.7</td>\n      <td>35.0</td>\n      <td>3.4</td>\n      <td>0.007</td>\n      <td>177.400</td>\n      <td>464</td>\n      <td>0</td>\n      <td>No</td>\n    </tr>\n    <tr>\n      <th>Earth</th>\n      <td>5.9700</td>\n      <td>12756</td>\n      <td>5514</td>\n      <td>9.8</td>\n      <td>11.2</td>\n      <td>23.9</td>\n      <td>24.0</td>\n      <td>149.6</td>\n      <td>147.1</td>\n      <td>152.1</td>\n      <td>365.2</td>\n      <td>29.8</td>\n      <td>0.0</td>\n      <td>0.017</td>\n      <td>23.400</td>\n      <td>15</td>\n      <td>1</td>\n      <td>No</td>\n    </tr>\n    <tr>\n      <th>Mars</th>\n      <td>0.6420</td>\n      <td>6792</td>\n      <td>3933</td>\n      <td>3.7</td>\n      <td>5.0</td>\n      <td>24.6</td>\n      <td>24.7</td>\n      <td>227.9</td>\n      <td>206.6</td>\n      <td>249.2</td>\n      <td>687.0</td>\n      <td>24.1</td>\n      <td>1.9</td>\n      <td>0.094</td>\n      <td>25.200</td>\n      <td>-65</td>\n      <td>2</td>\n      <td>No</td>\n    </tr>\n    <tr>\n      <th>Jupiter</th>\n      <td>1898.0000</td>\n      <td>142984</td>\n      <td>1326</td>\n      <td>23.1</td>\n      <td>59.5</td>\n      <td>9.9</td>\n      <td>9.9</td>\n      <td>778.6</td>\n      <td>740.5</td>\n      <td>816.6</td>\n      <td>4331.0</td>\n      <td>13.1</td>\n      <td>1.3</td>\n      <td>0.049</td>\n      <td>3.100</td>\n      <td>-110</td>\n      <td>79</td>\n      <td>Yes</td>\n    </tr>\n    <tr>\n      <th>Saturn</th>\n      <td>568.0000</td>\n      <td>120536</td>\n      <td>687</td>\n      <td>9.0</td>\n      <td>35.5</td>\n      <td>10.7</td>\n      <td>10.7</td>\n      <td>1433.5</td>\n      <td>1352.6</td>\n      <td>1514.5</td>\n      <td>10747.0</td>\n      <td>9.7</td>\n      <td>2.5</td>\n      <td>0.057</td>\n      <td>26.700</td>\n      <td>-140</td>\n      <td>82</td>\n      <td>Yes</td>\n    </tr>\n    <tr>\n      <th>Uranus</th>\n      <td>86.8000</td>\n      <td>51118</td>\n      <td>1271</td>\n      <td>8.7</td>\n      <td>21.3</td>\n      <td>-17.2</td>\n      <td>17.2</td>\n      <td>2872.5</td>\n      <td>2741.3</td>\n      <td>3003.6</td>\n      <td>30589.0</td>\n      <td>6.8</td>\n      <td>0.8</td>\n      <td>0.046</td>\n      <td>97.800</td>\n      <td>-195</td>\n      <td>27</td>\n      <td>Yes</td>\n    </tr>\n    <tr>\n      <th>Neptune</th>\n      <td>102.0000</td>\n      <td>49528</td>\n      <td>1638</td>\n      <td>11.0</td>\n      <td>23.5</td>\n      <td>16.1</td>\n      <td>16.1</td>\n      <td>4495.1</td>\n      <td>4444.5</td>\n      <td>4545.7</td>\n      <td>59800.0</td>\n      <td>5.4</td>\n      <td>1.8</td>\n      <td>0.011</td>\n      <td>28.300</td>\n      <td>-200</td>\n      <td>14</td>\n      <td>Yes</td>\n    </tr>\n    <tr>\n      <th>Pluto</th>\n      <td>0.0146</td>\n      <td>2370</td>\n      <td>2095</td>\n      <td>0.7</td>\n      <td>1.3</td>\n      <td>-153.3</td>\n      <td>153.3</td>\n      <td>5906.4</td>\n      <td>4436.8</td>\n      <td>7375.9</td>\n      <td>90560.0</td>\n      <td>4.7</td>\n      <td>17.2</td>\n      <td>0.244</td>\n      <td>122.500</td>\n      <td>-225</td>\n      <td>5</td>\n      <td>No</td>\n    </tr>\n  </tbody>\n</table>\n</div>"
     },
     "metadata": {},
     "execution_count": 44
    }
   ],
   "source": [
    "fact_db = fact_df.set_index('Planet')\n",
    "fact_db"
   ]
  },
  {
   "cell_type": "code",
   "execution_count": 45,
   "metadata": {},
   "outputs": [],
   "source": [
    "connection_string = \"postgres:Diamond96@localhost:5432/ETL_Project_Mars\"\n",
    "engine = create_engine(f'postgresql://{connection_string}')"
   ]
  },
  {
   "cell_type": "code",
   "execution_count": 46,
   "metadata": {},
   "outputs": [
    {
     "output_type": "stream",
     "name": "stdout",
     "text": [
      "{'name': 'Planet', 'type': VARCHAR(), 'nullable': False, 'default': None, 'autoincrement': False, 'comment': None}\n{'name': 'Mass', 'type': NUMERIC(precision=18, scale=4), 'nullable': False, 'default': None, 'autoincrement': False, 'comment': None}\n{'name': 'Diameter', 'type': INTEGER(), 'nullable': False, 'default': None, 'autoincrement': False, 'comment': None}\n{'name': 'Density', 'type': INTEGER(), 'nullable': False, 'default': None, 'autoincrement': False, 'comment': None}\n{'name': 'Gravity', 'type': NUMERIC(precision=18, scale=1), 'nullable': False, 'default': None, 'autoincrement': False, 'comment': None}\n{'name': 'Escape Velocity', 'type': NUMERIC(precision=18, scale=1), 'nullable': False, 'default': None, 'autoincrement': False, 'comment': None}\n{'name': 'Rotation Period', 'type': NUMERIC(precision=18, scale=1), 'nullable': False, 'default': None, 'autoincrement': False, 'comment': None}\n{'name': 'Length of Day', 'type': NUMERIC(precision=18, scale=1), 'nullable': False, 'default': None, 'autoincrement': False, 'comment': None}\n{'name': 'Distance from Sun', 'type': NUMERIC(precision=18, scale=1), 'nullable': False, 'default': None, 'autoincrement': False, 'comment': None}\n{'name': 'Perihelion', 'type': NUMERIC(precision=18, scale=1), 'nullable': False, 'default': None, 'autoincrement': False, 'comment': None}\n{'name': 'Aphelion', 'type': NUMERIC(precision=18, scale=1), 'nullable': False, 'default': None, 'autoincrement': False, 'comment': None}\n{'name': 'Orbital Period', 'type': NUMERIC(precision=18, scale=1), 'nullable': False, 'default': None, 'autoincrement': False, 'comment': None}\n{'name': 'Orbital Velocity', 'type': NUMERIC(precision=18, scale=1), 'nullable': False, 'default': None, 'autoincrement': False, 'comment': None}\n{'name': 'Orbital Inclination', 'type': NUMERIC(precision=18, scale=1), 'nullable': False, 'default': None, 'autoincrement': False, 'comment': None}\n{'name': 'Orbital Eccentricity', 'type': NUMERIC(precision=18, scale=3), 'nullable': False, 'default': None, 'autoincrement': False, 'comment': None}\n{'name': 'Obliquity to Orbit', 'type': NUMERIC(precision=18, scale=3), 'nullable': False, 'default': None, 'autoincrement': False, 'comment': None}\n{'name': 'Mean Temperature', 'type': INTEGER(), 'nullable': False, 'default': None, 'autoincrement': False, 'comment': None}\n{'name': 'Number of Moons', 'type': INTEGER(), 'nullable': False, 'default': None, 'autoincrement': False, 'comment': None}\n{'name': 'Ring System?', 'type': BOOLEAN(), 'nullable': False, 'default': None, 'autoincrement': False, 'comment': None}\n"
     ]
    }
   ],
   "source": [
    "inspector=inspect(engine)\n",
    "columns=inspector.get_columns('facts')\n",
    "for column in columns:\n",
    "    print(column)"
   ]
  },
  {
   "cell_type": "code",
   "execution_count": 47,
   "metadata": {},
   "outputs": [
    {
     "output_type": "execute_result",
     "data": {
      "text/plain": [
       "['facts']"
      ]
     },
     "metadata": {},
     "execution_count": 47
    }
   ],
   "source": [
    "engine.table_names()"
   ]
  },
  {
   "cell_type": "code",
   "execution_count": 49,
   "metadata": {},
   "outputs": [
    {
     "output_type": "error",
     "ename": "IntegrityError",
     "evalue": "(psycopg2.errors.UniqueViolation) duplicate key value violates unique constraint \"facts_pkey\"\nDETAIL:  Key (\"Planet\")=(Mercury) already exists.\n\n[SQL: INSERT INTO facts (\"Planet\", \"Mass\", \"Diameter\", \"Density\", \"Gravity\", \"Escape Velocity\", \"Rotation Period\", \"Length of Day\", \"Distance from Sun\", \"Perihelion\", \"Aphelion\", \"Orbital Period\", \"Orbital Velocity\", \"Orbital Inclination\", \"Orbital Eccentricity\", \"Obliquity to Orbit\", \"Mean Temperature\", \"Number of Moons\", \"Ring System?\") VALUES (%(Planet)s, %(Mass)s, %(Diameter)s, %(Density)s, %(Gravity)s, %(Escape Velocity)s, %(Rotation Period)s, %(Length of Day)s, %(Distance from Sun)s, %(Perihelion)s, %(Aphelion)s, %(Orbital Period)s, %(Orbital Velocity)s, %(Orbital Inclination)s, %(Orbital Eccentricity)s, %(Obliquity to Orbit)s, %(Mean Temperature)s, %(Number of Moons)s, %(Ring System?)s)]\n[parameters: ({'Planet': 'Mercury', 'Mass': 0.33, 'Diameter': 4879, 'Density': 5427, 'Gravity': 3.7, 'Escape Velocity': 4.3, 'Rotation Period': 1407.6, 'Length of Day': 4222.6, 'Distance from Sun': 57.9, 'Perihelion': 46.0, 'Aphelion': 69.8, 'Orbital Period': 88.0, 'Orbital Velocity': 47.4, 'Orbital Inclination': 7.0, 'Orbital Eccentricity': 0.205, 'Obliquity to Orbit': 0.034, 'Mean Temperature': 167, 'Number of Moons': 0, 'Ring System?': 'No'}, {'Planet': 'Venus', 'Mass': 4.87, 'Diameter': 12104, 'Density': 5243, 'Gravity': 8.9, 'Escape Velocity': 10.4, 'Rotation Period': -5832.5, 'Length of Day': 2802.0, 'Distance from Sun': 108.2, 'Perihelion': 107.5, 'Aphelion': 108.9, 'Orbital Period': 224.7, 'Orbital Velocity': 35.0, 'Orbital Inclination': 3.4, 'Orbital Eccentricity': 0.006999999999999999, 'Obliquity to Orbit': 177.4, 'Mean Temperature': 464, 'Number of Moons': 0, 'Ring System?': 'No'}, {'Planet': 'Earth', 'Mass': 5.97, 'Diameter': 12756, 'Density': 5514, 'Gravity': 9.8, 'Escape Velocity': 11.2, 'Rotation Period': 23.9, 'Length of Day': 24.0, 'Distance from Sun': 149.6, 'Perihelion': 147.1, 'Aphelion': 152.1, 'Orbital Period': 365.2, 'Orbital Velocity': 29.8, 'Orbital Inclination': 0.0, 'Orbital Eccentricity': 0.017, 'Obliquity to Orbit': 23.4, 'Mean Temperature': 15, 'Number of Moons': 1, 'Ring System?': 'No'}, {'Planet': 'Mars', 'Mass': 0.642, 'Diameter': 6792, 'Density': 3933, 'Gravity': 3.7, 'Escape Velocity': 5.0, 'Rotation Period': 24.6, 'Length of Day': 24.7, 'Distance from Sun': 227.9, 'Perihelion': 206.6, 'Aphelion': 249.2, 'Orbital Period': 687.0, 'Orbital Velocity': 24.1, 'Orbital Inclination': 1.9, 'Orbital Eccentricity': 0.094, 'Obliquity to Orbit': 25.2, 'Mean Temperature': -65, 'Number of Moons': 2, 'Ring System?': 'No'}, {'Planet': 'Jupiter', 'Mass': 1898.0, 'Diameter': 142984, 'Density': 1326, 'Gravity': 23.1, 'Escape Velocity': 59.5, 'Rotation Period': 9.9, 'Length of Day': 9.9, 'Distance from Sun': 778.6, 'Perihelion': 740.5, 'Aphelion': 816.6, 'Orbital Period': 4331.0, 'Orbital Velocity': 13.1, 'Orbital Inclination': 1.3, 'Orbital Eccentricity': 0.049, 'Obliquity to Orbit': 3.1, 'Mean Temperature': -110, 'Number of Moons': 79, 'Ring System?': 'Yes'}, {'Planet': 'Saturn', 'Mass': 568.0, 'Diameter': 120536, 'Density': 687, 'Gravity': 9.0, 'Escape Velocity': 35.5, 'Rotation Period': 10.7, 'Length of Day': 10.7, 'Distance from Sun': 1433.5, 'Perihelion': 1352.6, 'Aphelion': 1514.5, 'Orbital Period': 10747.0, 'Orbital Velocity': 9.7, 'Orbital Inclination': 2.5, 'Orbital Eccentricity': 0.057, 'Obliquity to Orbit': 26.7, 'Mean Temperature': -140, 'Number of Moons': 82, 'Ring System?': 'Yes'}, {'Planet': 'Uranus', 'Mass': 86.8, 'Diameter': 51118, 'Density': 1271, 'Gravity': 8.7, 'Escape Velocity': 21.3, 'Rotation Period': -17.2, 'Length of Day': 17.2, 'Distance from Sun': 2872.5, 'Perihelion': 2741.3, 'Aphelion': 3003.6, 'Orbital Period': 30589.0, 'Orbital Velocity': 6.8, 'Orbital Inclination': 0.8, 'Orbital Eccentricity': 0.046, 'Obliquity to Orbit': 97.8, 'Mean Temperature': -195, 'Number of Moons': 27, 'Ring System?': 'Yes'}, {'Planet': 'Neptune', 'Mass': 102.0, 'Diameter': 49528, 'Density': 1638, 'Gravity': 11.0, 'Escape Velocity': 23.5, 'Rotation Period': 16.1, 'Length of Day': 16.1, 'Distance from Sun': 4495.1, 'Perihelion': 4444.5, 'Aphelion': 4545.7, 'Orbital Period': 59800.0, 'Orbital Velocity': 5.4, 'Orbital Inclination': 1.8, 'Orbital Eccentricity': 0.011000000000000001, 'Obliquity to Orbit': 28.3, 'Mean Temperature': -200, 'Number of Moons': 14, 'Ring System?': 'Yes'}, {'Planet': 'Pluto', 'Mass': 0.0146, 'Diameter': 2370, 'Density': 2095, 'Gravity': 0.7, 'Escape Velocity': 1.3, 'Rotation Period': -153.3, 'Length of Day': 153.3, 'Distance from Sun': 5906.4, 'Perihelion': 4436.8, 'Aphelion': 7375.9, 'Orbital Period': 90560.0, 'Orbital Velocity': 4.7, 'Orbital Inclination': 17.2, 'Orbital Eccentricity': 0.244, 'Obliquity to Orbit': 122.5, 'Mean Temperature': -225, 'Number of Moons': 5, 'Ring System?': 'No'})]\n(Background on this error at: http://sqlalche.me/e/13/gkpj)",
     "traceback": [
      "\u001b[1;31m---------------------------------------------------------------------------\u001b[0m",
      "\u001b[1;31mUniqueViolation\u001b[0m                           Traceback (most recent call last)",
      "\u001b[1;32m~\\anaconda3\\lib\\site-packages\\sqlalchemy\\engine\\base.py\u001b[0m in \u001b[0;36m_execute_context\u001b[1;34m(self, dialect, constructor, statement, parameters, *args)\u001b[0m\n\u001b[0;32m   1256\u001b[0m                 \u001b[1;32mif\u001b[0m \u001b[1;32mnot\u001b[0m \u001b[0mevt_handled\u001b[0m\u001b[1;33m:\u001b[0m\u001b[1;33m\u001b[0m\u001b[1;33m\u001b[0m\u001b[0m\n\u001b[1;32m-> 1257\u001b[1;33m                     self.dialect.do_executemany(\n\u001b[0m\u001b[0;32m   1258\u001b[0m                         \u001b[0mcursor\u001b[0m\u001b[1;33m,\u001b[0m \u001b[0mstatement\u001b[0m\u001b[1;33m,\u001b[0m \u001b[0mparameters\u001b[0m\u001b[1;33m,\u001b[0m \u001b[0mcontext\u001b[0m\u001b[1;33m\u001b[0m\u001b[1;33m\u001b[0m\u001b[0m\n",
      "\u001b[1;32m~\\anaconda3\\lib\\site-packages\\sqlalchemy\\dialects\\postgresql\\psycopg2.py\u001b[0m in \u001b[0;36mdo_executemany\u001b[1;34m(self, cursor, statement, parameters, context)\u001b[0m\n\u001b[0;32m    872\u001b[0m         \u001b[1;32mif\u001b[0m \u001b[0mself\u001b[0m\u001b[1;33m.\u001b[0m\u001b[0mexecutemany_mode\u001b[0m \u001b[1;32mis\u001b[0m \u001b[0mEXECUTEMANY_DEFAULT\u001b[0m\u001b[1;33m:\u001b[0m\u001b[1;33m\u001b[0m\u001b[1;33m\u001b[0m\u001b[0m\n\u001b[1;32m--> 873\u001b[1;33m             \u001b[0mcursor\u001b[0m\u001b[1;33m.\u001b[0m\u001b[0mexecutemany\u001b[0m\u001b[1;33m(\u001b[0m\u001b[0mstatement\u001b[0m\u001b[1;33m,\u001b[0m \u001b[0mparameters\u001b[0m\u001b[1;33m)\u001b[0m\u001b[1;33m\u001b[0m\u001b[1;33m\u001b[0m\u001b[0m\n\u001b[0m\u001b[0;32m    874\u001b[0m             \u001b[1;32mreturn\u001b[0m\u001b[1;33m\u001b[0m\u001b[1;33m\u001b[0m\u001b[0m\n",
      "\u001b[1;31mUniqueViolation\u001b[0m: duplicate key value violates unique constraint \"facts_pkey\"\nDETAIL:  Key (\"Planet\")=(Mercury) already exists.\n",
      "\nThe above exception was the direct cause of the following exception:\n",
      "\u001b[1;31mIntegrityError\u001b[0m                            Traceback (most recent call last)",
      "\u001b[1;32m<ipython-input-49-ea5582409a32>\u001b[0m in \u001b[0;36m<module>\u001b[1;34m\u001b[0m\n\u001b[1;32m----> 1\u001b[1;33m \u001b[0mfact_db\u001b[0m\u001b[1;33m.\u001b[0m\u001b[0mto_sql\u001b[0m\u001b[1;33m(\u001b[0m\u001b[0mname\u001b[0m\u001b[1;33m=\u001b[0m\u001b[1;34m'facts'\u001b[0m\u001b[1;33m,\u001b[0m \u001b[0mcon\u001b[0m\u001b[1;33m=\u001b[0m\u001b[0mengine\u001b[0m\u001b[1;33m,\u001b[0m \u001b[0mif_exists\u001b[0m\u001b[1;33m=\u001b[0m\u001b[1;34m'append'\u001b[0m\u001b[1;33m,\u001b[0m \u001b[0mindex\u001b[0m\u001b[1;33m=\u001b[0m\u001b[1;32mTrue\u001b[0m\u001b[1;33m)\u001b[0m\u001b[1;33m\u001b[0m\u001b[1;33m\u001b[0m\u001b[0m\n\u001b[0m",
      "\u001b[1;32m~\\anaconda3\\lib\\site-packages\\pandas\\core\\generic.py\u001b[0m in \u001b[0;36mto_sql\u001b[1;34m(self, name, con, schema, if_exists, index, index_label, chunksize, dtype, method)\u001b[0m\n\u001b[0;32m   2651\u001b[0m         \u001b[1;32mfrom\u001b[0m \u001b[0mpandas\u001b[0m\u001b[1;33m.\u001b[0m\u001b[0mio\u001b[0m \u001b[1;32mimport\u001b[0m \u001b[0msql\u001b[0m\u001b[1;33m\u001b[0m\u001b[1;33m\u001b[0m\u001b[0m\n\u001b[0;32m   2652\u001b[0m \u001b[1;33m\u001b[0m\u001b[0m\n\u001b[1;32m-> 2653\u001b[1;33m         sql.to_sql(\n\u001b[0m\u001b[0;32m   2654\u001b[0m             \u001b[0mself\u001b[0m\u001b[1;33m,\u001b[0m\u001b[1;33m\u001b[0m\u001b[1;33m\u001b[0m\u001b[0m\n\u001b[0;32m   2655\u001b[0m             \u001b[0mname\u001b[0m\u001b[1;33m,\u001b[0m\u001b[1;33m\u001b[0m\u001b[1;33m\u001b[0m\u001b[0m\n",
      "\u001b[1;32m~\\anaconda3\\lib\\site-packages\\pandas\\io\\sql.py\u001b[0m in \u001b[0;36mto_sql\u001b[1;34m(frame, name, con, schema, if_exists, index, index_label, chunksize, dtype, method)\u001b[0m\n\u001b[0;32m    510\u001b[0m         )\n\u001b[0;32m    511\u001b[0m \u001b[1;33m\u001b[0m\u001b[0m\n\u001b[1;32m--> 512\u001b[1;33m     pandas_sql.to_sql(\n\u001b[0m\u001b[0;32m    513\u001b[0m         \u001b[0mframe\u001b[0m\u001b[1;33m,\u001b[0m\u001b[1;33m\u001b[0m\u001b[1;33m\u001b[0m\u001b[0m\n\u001b[0;32m    514\u001b[0m         \u001b[0mname\u001b[0m\u001b[1;33m,\u001b[0m\u001b[1;33m\u001b[0m\u001b[1;33m\u001b[0m\u001b[0m\n",
      "\u001b[1;32m~\\anaconda3\\lib\\site-packages\\pandas\\io\\sql.py\u001b[0m in \u001b[0;36mto_sql\u001b[1;34m(self, frame, name, if_exists, index, index_label, schema, chunksize, dtype, method)\u001b[0m\n\u001b[0;32m   1315\u001b[0m         )\n\u001b[0;32m   1316\u001b[0m         \u001b[0mtable\u001b[0m\u001b[1;33m.\u001b[0m\u001b[0mcreate\u001b[0m\u001b[1;33m(\u001b[0m\u001b[1;33m)\u001b[0m\u001b[1;33m\u001b[0m\u001b[1;33m\u001b[0m\u001b[0m\n\u001b[1;32m-> 1317\u001b[1;33m         \u001b[0mtable\u001b[0m\u001b[1;33m.\u001b[0m\u001b[0minsert\u001b[0m\u001b[1;33m(\u001b[0m\u001b[0mchunksize\u001b[0m\u001b[1;33m,\u001b[0m \u001b[0mmethod\u001b[0m\u001b[1;33m=\u001b[0m\u001b[0mmethod\u001b[0m\u001b[1;33m)\u001b[0m\u001b[1;33m\u001b[0m\u001b[1;33m\u001b[0m\u001b[0m\n\u001b[0m\u001b[0;32m   1318\u001b[0m         \u001b[1;32mif\u001b[0m \u001b[1;32mnot\u001b[0m \u001b[0mname\u001b[0m\u001b[1;33m.\u001b[0m\u001b[0misdigit\u001b[0m\u001b[1;33m(\u001b[0m\u001b[1;33m)\u001b[0m \u001b[1;32mand\u001b[0m \u001b[1;32mnot\u001b[0m \u001b[0mname\u001b[0m\u001b[1;33m.\u001b[0m\u001b[0mislower\u001b[0m\u001b[1;33m(\u001b[0m\u001b[1;33m)\u001b[0m\u001b[1;33m:\u001b[0m\u001b[1;33m\u001b[0m\u001b[1;33m\u001b[0m\u001b[0m\n\u001b[0;32m   1319\u001b[0m             \u001b[1;31m# check for potentially case sensitivity issues (GH7815)\u001b[0m\u001b[1;33m\u001b[0m\u001b[1;33m\u001b[0m\u001b[1;33m\u001b[0m\u001b[0m\n",
      "\u001b[1;32m~\\anaconda3\\lib\\site-packages\\pandas\\io\\sql.py\u001b[0m in \u001b[0;36minsert\u001b[1;34m(self, chunksize, method)\u001b[0m\n\u001b[0;32m    753\u001b[0m \u001b[1;33m\u001b[0m\u001b[0m\n\u001b[0;32m    754\u001b[0m                 \u001b[0mchunk_iter\u001b[0m \u001b[1;33m=\u001b[0m \u001b[0mzip\u001b[0m\u001b[1;33m(\u001b[0m\u001b[1;33m*\u001b[0m\u001b[1;33m[\u001b[0m\u001b[0marr\u001b[0m\u001b[1;33m[\u001b[0m\u001b[0mstart_i\u001b[0m\u001b[1;33m:\u001b[0m\u001b[0mend_i\u001b[0m\u001b[1;33m]\u001b[0m \u001b[1;32mfor\u001b[0m \u001b[0marr\u001b[0m \u001b[1;32min\u001b[0m \u001b[0mdata_list\u001b[0m\u001b[1;33m]\u001b[0m\u001b[1;33m)\u001b[0m\u001b[1;33m\u001b[0m\u001b[1;33m\u001b[0m\u001b[0m\n\u001b[1;32m--> 755\u001b[1;33m                 \u001b[0mexec_insert\u001b[0m\u001b[1;33m(\u001b[0m\u001b[0mconn\u001b[0m\u001b[1;33m,\u001b[0m \u001b[0mkeys\u001b[0m\u001b[1;33m,\u001b[0m \u001b[0mchunk_iter\u001b[0m\u001b[1;33m)\u001b[0m\u001b[1;33m\u001b[0m\u001b[1;33m\u001b[0m\u001b[0m\n\u001b[0m\u001b[0;32m    756\u001b[0m \u001b[1;33m\u001b[0m\u001b[0m\n\u001b[0;32m    757\u001b[0m     def _query_iterator(\n",
      "\u001b[1;32m~\\anaconda3\\lib\\site-packages\\pandas\\io\\sql.py\u001b[0m in \u001b[0;36m_execute_insert\u001b[1;34m(self, conn, keys, data_iter)\u001b[0m\n\u001b[0;32m    667\u001b[0m         \"\"\"\n\u001b[0;32m    668\u001b[0m         \u001b[0mdata\u001b[0m \u001b[1;33m=\u001b[0m \u001b[1;33m[\u001b[0m\u001b[0mdict\u001b[0m\u001b[1;33m(\u001b[0m\u001b[0mzip\u001b[0m\u001b[1;33m(\u001b[0m\u001b[0mkeys\u001b[0m\u001b[1;33m,\u001b[0m \u001b[0mrow\u001b[0m\u001b[1;33m)\u001b[0m\u001b[1;33m)\u001b[0m \u001b[1;32mfor\u001b[0m \u001b[0mrow\u001b[0m \u001b[1;32min\u001b[0m \u001b[0mdata_iter\u001b[0m\u001b[1;33m]\u001b[0m\u001b[1;33m\u001b[0m\u001b[1;33m\u001b[0m\u001b[0m\n\u001b[1;32m--> 669\u001b[1;33m         \u001b[0mconn\u001b[0m\u001b[1;33m.\u001b[0m\u001b[0mexecute\u001b[0m\u001b[1;33m(\u001b[0m\u001b[0mself\u001b[0m\u001b[1;33m.\u001b[0m\u001b[0mtable\u001b[0m\u001b[1;33m.\u001b[0m\u001b[0minsert\u001b[0m\u001b[1;33m(\u001b[0m\u001b[1;33m)\u001b[0m\u001b[1;33m,\u001b[0m \u001b[0mdata\u001b[0m\u001b[1;33m)\u001b[0m\u001b[1;33m\u001b[0m\u001b[1;33m\u001b[0m\u001b[0m\n\u001b[0m\u001b[0;32m    670\u001b[0m \u001b[1;33m\u001b[0m\u001b[0m\n\u001b[0;32m    671\u001b[0m     \u001b[1;32mdef\u001b[0m \u001b[0m_execute_insert_multi\u001b[0m\u001b[1;33m(\u001b[0m\u001b[0mself\u001b[0m\u001b[1;33m,\u001b[0m \u001b[0mconn\u001b[0m\u001b[1;33m,\u001b[0m \u001b[0mkeys\u001b[0m\u001b[1;33m,\u001b[0m \u001b[0mdata_iter\u001b[0m\u001b[1;33m)\u001b[0m\u001b[1;33m:\u001b[0m\u001b[1;33m\u001b[0m\u001b[1;33m\u001b[0m\u001b[0m\n",
      "\u001b[1;32m~\\anaconda3\\lib\\site-packages\\sqlalchemy\\engine\\base.py\u001b[0m in \u001b[0;36mexecute\u001b[1;34m(self, object_, *multiparams, **params)\u001b[0m\n\u001b[0;32m   1012\u001b[0m             )\n\u001b[0;32m   1013\u001b[0m         \u001b[1;32melse\u001b[0m\u001b[1;33m:\u001b[0m\u001b[1;33m\u001b[0m\u001b[1;33m\u001b[0m\u001b[0m\n\u001b[1;32m-> 1014\u001b[1;33m             \u001b[1;32mreturn\u001b[0m \u001b[0mmeth\u001b[0m\u001b[1;33m(\u001b[0m\u001b[0mself\u001b[0m\u001b[1;33m,\u001b[0m \u001b[0mmultiparams\u001b[0m\u001b[1;33m,\u001b[0m \u001b[0mparams\u001b[0m\u001b[1;33m)\u001b[0m\u001b[1;33m\u001b[0m\u001b[1;33m\u001b[0m\u001b[0m\n\u001b[0m\u001b[0;32m   1015\u001b[0m \u001b[1;33m\u001b[0m\u001b[0m\n\u001b[0;32m   1016\u001b[0m     \u001b[1;32mdef\u001b[0m \u001b[0m_execute_function\u001b[0m\u001b[1;33m(\u001b[0m\u001b[0mself\u001b[0m\u001b[1;33m,\u001b[0m \u001b[0mfunc\u001b[0m\u001b[1;33m,\u001b[0m \u001b[0mmultiparams\u001b[0m\u001b[1;33m,\u001b[0m \u001b[0mparams\u001b[0m\u001b[1;33m)\u001b[0m\u001b[1;33m:\u001b[0m\u001b[1;33m\u001b[0m\u001b[1;33m\u001b[0m\u001b[0m\n",
      "\u001b[1;32m~\\anaconda3\\lib\\site-packages\\sqlalchemy\\sql\\elements.py\u001b[0m in \u001b[0;36m_execute_on_connection\u001b[1;34m(self, connection, multiparams, params)\u001b[0m\n\u001b[0;32m    296\u001b[0m     \u001b[1;32mdef\u001b[0m \u001b[0m_execute_on_connection\u001b[0m\u001b[1;33m(\u001b[0m\u001b[0mself\u001b[0m\u001b[1;33m,\u001b[0m \u001b[0mconnection\u001b[0m\u001b[1;33m,\u001b[0m \u001b[0mmultiparams\u001b[0m\u001b[1;33m,\u001b[0m \u001b[0mparams\u001b[0m\u001b[1;33m)\u001b[0m\u001b[1;33m:\u001b[0m\u001b[1;33m\u001b[0m\u001b[1;33m\u001b[0m\u001b[0m\n\u001b[0;32m    297\u001b[0m         \u001b[1;32mif\u001b[0m \u001b[0mself\u001b[0m\u001b[1;33m.\u001b[0m\u001b[0msupports_execution\u001b[0m\u001b[1;33m:\u001b[0m\u001b[1;33m\u001b[0m\u001b[1;33m\u001b[0m\u001b[0m\n\u001b[1;32m--> 298\u001b[1;33m             \u001b[1;32mreturn\u001b[0m \u001b[0mconnection\u001b[0m\u001b[1;33m.\u001b[0m\u001b[0m_execute_clauseelement\u001b[0m\u001b[1;33m(\u001b[0m\u001b[0mself\u001b[0m\u001b[1;33m,\u001b[0m \u001b[0mmultiparams\u001b[0m\u001b[1;33m,\u001b[0m \u001b[0mparams\u001b[0m\u001b[1;33m)\u001b[0m\u001b[1;33m\u001b[0m\u001b[1;33m\u001b[0m\u001b[0m\n\u001b[0m\u001b[0;32m    299\u001b[0m         \u001b[1;32melse\u001b[0m\u001b[1;33m:\u001b[0m\u001b[1;33m\u001b[0m\u001b[1;33m\u001b[0m\u001b[0m\n\u001b[0;32m    300\u001b[0m             \u001b[1;32mraise\u001b[0m \u001b[0mexc\u001b[0m\u001b[1;33m.\u001b[0m\u001b[0mObjectNotExecutableError\u001b[0m\u001b[1;33m(\u001b[0m\u001b[0mself\u001b[0m\u001b[1;33m)\u001b[0m\u001b[1;33m\u001b[0m\u001b[1;33m\u001b[0m\u001b[0m\n",
      "\u001b[1;32m~\\anaconda3\\lib\\site-packages\\sqlalchemy\\engine\\base.py\u001b[0m in \u001b[0;36m_execute_clauseelement\u001b[1;34m(self, elem, multiparams, params)\u001b[0m\n\u001b[0;32m   1125\u001b[0m             )\n\u001b[0;32m   1126\u001b[0m \u001b[1;33m\u001b[0m\u001b[0m\n\u001b[1;32m-> 1127\u001b[1;33m         ret = self._execute_context(\n\u001b[0m\u001b[0;32m   1128\u001b[0m             \u001b[0mdialect\u001b[0m\u001b[1;33m,\u001b[0m\u001b[1;33m\u001b[0m\u001b[1;33m\u001b[0m\u001b[0m\n\u001b[0;32m   1129\u001b[0m             \u001b[0mdialect\u001b[0m\u001b[1;33m.\u001b[0m\u001b[0mexecution_ctx_cls\u001b[0m\u001b[1;33m.\u001b[0m\u001b[0m_init_compiled\u001b[0m\u001b[1;33m,\u001b[0m\u001b[1;33m\u001b[0m\u001b[1;33m\u001b[0m\u001b[0m\n",
      "\u001b[1;32m~\\anaconda3\\lib\\site-packages\\sqlalchemy\\engine\\base.py\u001b[0m in \u001b[0;36m_execute_context\u001b[1;34m(self, dialect, constructor, statement, parameters, *args)\u001b[0m\n\u001b[0;32m   1315\u001b[0m \u001b[1;33m\u001b[0m\u001b[0m\n\u001b[0;32m   1316\u001b[0m         \u001b[1;32mexcept\u001b[0m \u001b[0mBaseException\u001b[0m \u001b[1;32mas\u001b[0m \u001b[0me\u001b[0m\u001b[1;33m:\u001b[0m\u001b[1;33m\u001b[0m\u001b[1;33m\u001b[0m\u001b[0m\n\u001b[1;32m-> 1317\u001b[1;33m             self._handle_dbapi_exception(\n\u001b[0m\u001b[0;32m   1318\u001b[0m                 \u001b[0me\u001b[0m\u001b[1;33m,\u001b[0m \u001b[0mstatement\u001b[0m\u001b[1;33m,\u001b[0m \u001b[0mparameters\u001b[0m\u001b[1;33m,\u001b[0m \u001b[0mcursor\u001b[0m\u001b[1;33m,\u001b[0m \u001b[0mcontext\u001b[0m\u001b[1;33m\u001b[0m\u001b[1;33m\u001b[0m\u001b[0m\n\u001b[0;32m   1319\u001b[0m             )\n",
      "\u001b[1;32m~\\anaconda3\\lib\\site-packages\\sqlalchemy\\engine\\base.py\u001b[0m in \u001b[0;36m_handle_dbapi_exception\u001b[1;34m(self, e, statement, parameters, cursor, context)\u001b[0m\n\u001b[0;32m   1509\u001b[0m                 \u001b[0mutil\u001b[0m\u001b[1;33m.\u001b[0m\u001b[0mraise_\u001b[0m\u001b[1;33m(\u001b[0m\u001b[0mnewraise\u001b[0m\u001b[1;33m,\u001b[0m \u001b[0mwith_traceback\u001b[0m\u001b[1;33m=\u001b[0m\u001b[0mexc_info\u001b[0m\u001b[1;33m[\u001b[0m\u001b[1;36m2\u001b[0m\u001b[1;33m]\u001b[0m\u001b[1;33m,\u001b[0m \u001b[0mfrom_\u001b[0m\u001b[1;33m=\u001b[0m\u001b[0me\u001b[0m\u001b[1;33m)\u001b[0m\u001b[1;33m\u001b[0m\u001b[1;33m\u001b[0m\u001b[0m\n\u001b[0;32m   1510\u001b[0m             \u001b[1;32melif\u001b[0m \u001b[0mshould_wrap\u001b[0m\u001b[1;33m:\u001b[0m\u001b[1;33m\u001b[0m\u001b[1;33m\u001b[0m\u001b[0m\n\u001b[1;32m-> 1511\u001b[1;33m                 util.raise_(\n\u001b[0m\u001b[0;32m   1512\u001b[0m                     \u001b[0msqlalchemy_exception\u001b[0m\u001b[1;33m,\u001b[0m \u001b[0mwith_traceback\u001b[0m\u001b[1;33m=\u001b[0m\u001b[0mexc_info\u001b[0m\u001b[1;33m[\u001b[0m\u001b[1;36m2\u001b[0m\u001b[1;33m]\u001b[0m\u001b[1;33m,\u001b[0m \u001b[0mfrom_\u001b[0m\u001b[1;33m=\u001b[0m\u001b[0me\u001b[0m\u001b[1;33m\u001b[0m\u001b[1;33m\u001b[0m\u001b[0m\n\u001b[0;32m   1513\u001b[0m                 )\n",
      "\u001b[1;32m~\\anaconda3\\lib\\site-packages\\sqlalchemy\\util\\compat.py\u001b[0m in \u001b[0;36mraise_\u001b[1;34m(***failed resolving arguments***)\u001b[0m\n\u001b[0;32m    176\u001b[0m \u001b[1;33m\u001b[0m\u001b[0m\n\u001b[0;32m    177\u001b[0m         \u001b[1;32mtry\u001b[0m\u001b[1;33m:\u001b[0m\u001b[1;33m\u001b[0m\u001b[1;33m\u001b[0m\u001b[0m\n\u001b[1;32m--> 178\u001b[1;33m             \u001b[1;32mraise\u001b[0m \u001b[0mexception\u001b[0m\u001b[1;33m\u001b[0m\u001b[1;33m\u001b[0m\u001b[0m\n\u001b[0m\u001b[0;32m    179\u001b[0m         \u001b[1;32mfinally\u001b[0m\u001b[1;33m:\u001b[0m\u001b[1;33m\u001b[0m\u001b[1;33m\u001b[0m\u001b[0m\n\u001b[0;32m    180\u001b[0m             \u001b[1;31m# credit to\u001b[0m\u001b[1;33m\u001b[0m\u001b[1;33m\u001b[0m\u001b[1;33m\u001b[0m\u001b[0m\n",
      "\u001b[1;32m~\\anaconda3\\lib\\site-packages\\sqlalchemy\\engine\\base.py\u001b[0m in \u001b[0;36m_execute_context\u001b[1;34m(self, dialect, constructor, statement, parameters, *args)\u001b[0m\n\u001b[0;32m   1255\u001b[0m                             \u001b[1;32mbreak\u001b[0m\u001b[1;33m\u001b[0m\u001b[1;33m\u001b[0m\u001b[0m\n\u001b[0;32m   1256\u001b[0m                 \u001b[1;32mif\u001b[0m \u001b[1;32mnot\u001b[0m \u001b[0mevt_handled\u001b[0m\u001b[1;33m:\u001b[0m\u001b[1;33m\u001b[0m\u001b[1;33m\u001b[0m\u001b[0m\n\u001b[1;32m-> 1257\u001b[1;33m                     self.dialect.do_executemany(\n\u001b[0m\u001b[0;32m   1258\u001b[0m                         \u001b[0mcursor\u001b[0m\u001b[1;33m,\u001b[0m \u001b[0mstatement\u001b[0m\u001b[1;33m,\u001b[0m \u001b[0mparameters\u001b[0m\u001b[1;33m,\u001b[0m \u001b[0mcontext\u001b[0m\u001b[1;33m\u001b[0m\u001b[1;33m\u001b[0m\u001b[0m\n\u001b[0;32m   1259\u001b[0m                     )\n",
      "\u001b[1;32m~\\anaconda3\\lib\\site-packages\\sqlalchemy\\dialects\\postgresql\\psycopg2.py\u001b[0m in \u001b[0;36mdo_executemany\u001b[1;34m(self, cursor, statement, parameters, context)\u001b[0m\n\u001b[0;32m    871\u001b[0m     \u001b[1;32mdef\u001b[0m \u001b[0mdo_executemany\u001b[0m\u001b[1;33m(\u001b[0m\u001b[0mself\u001b[0m\u001b[1;33m,\u001b[0m \u001b[0mcursor\u001b[0m\u001b[1;33m,\u001b[0m \u001b[0mstatement\u001b[0m\u001b[1;33m,\u001b[0m \u001b[0mparameters\u001b[0m\u001b[1;33m,\u001b[0m \u001b[0mcontext\u001b[0m\u001b[1;33m=\u001b[0m\u001b[1;32mNone\u001b[0m\u001b[1;33m)\u001b[0m\u001b[1;33m:\u001b[0m\u001b[1;33m\u001b[0m\u001b[1;33m\u001b[0m\u001b[0m\n\u001b[0;32m    872\u001b[0m         \u001b[1;32mif\u001b[0m \u001b[0mself\u001b[0m\u001b[1;33m.\u001b[0m\u001b[0mexecutemany_mode\u001b[0m \u001b[1;32mis\u001b[0m \u001b[0mEXECUTEMANY_DEFAULT\u001b[0m\u001b[1;33m:\u001b[0m\u001b[1;33m\u001b[0m\u001b[1;33m\u001b[0m\u001b[0m\n\u001b[1;32m--> 873\u001b[1;33m             \u001b[0mcursor\u001b[0m\u001b[1;33m.\u001b[0m\u001b[0mexecutemany\u001b[0m\u001b[1;33m(\u001b[0m\u001b[0mstatement\u001b[0m\u001b[1;33m,\u001b[0m \u001b[0mparameters\u001b[0m\u001b[1;33m)\u001b[0m\u001b[1;33m\u001b[0m\u001b[1;33m\u001b[0m\u001b[0m\n\u001b[0m\u001b[0;32m    874\u001b[0m             \u001b[1;32mreturn\u001b[0m\u001b[1;33m\u001b[0m\u001b[1;33m\u001b[0m\u001b[0m\n\u001b[0;32m    875\u001b[0m \u001b[1;33m\u001b[0m\u001b[0m\n",
      "\u001b[1;31mIntegrityError\u001b[0m: (psycopg2.errors.UniqueViolation) duplicate key value violates unique constraint \"facts_pkey\"\nDETAIL:  Key (\"Planet\")=(Mercury) already exists.\n\n[SQL: INSERT INTO facts (\"Planet\", \"Mass\", \"Diameter\", \"Density\", \"Gravity\", \"Escape Velocity\", \"Rotation Period\", \"Length of Day\", \"Distance from Sun\", \"Perihelion\", \"Aphelion\", \"Orbital Period\", \"Orbital Velocity\", \"Orbital Inclination\", \"Orbital Eccentricity\", \"Obliquity to Orbit\", \"Mean Temperature\", \"Number of Moons\", \"Ring System?\") VALUES (%(Planet)s, %(Mass)s, %(Diameter)s, %(Density)s, %(Gravity)s, %(Escape Velocity)s, %(Rotation Period)s, %(Length of Day)s, %(Distance from Sun)s, %(Perihelion)s, %(Aphelion)s, %(Orbital Period)s, %(Orbital Velocity)s, %(Orbital Inclination)s, %(Orbital Eccentricity)s, %(Obliquity to Orbit)s, %(Mean Temperature)s, %(Number of Moons)s, %(Ring System?)s)]\n[parameters: ({'Planet': 'Mercury', 'Mass': 0.33, 'Diameter': 4879, 'Density': 5427, 'Gravity': 3.7, 'Escape Velocity': 4.3, 'Rotation Period': 1407.6, 'Length of Day': 4222.6, 'Distance from Sun': 57.9, 'Perihelion': 46.0, 'Aphelion': 69.8, 'Orbital Period': 88.0, 'Orbital Velocity': 47.4, 'Orbital Inclination': 7.0, 'Orbital Eccentricity': 0.205, 'Obliquity to Orbit': 0.034, 'Mean Temperature': 167, 'Number of Moons': 0, 'Ring System?': 'No'}, {'Planet': 'Venus', 'Mass': 4.87, 'Diameter': 12104, 'Density': 5243, 'Gravity': 8.9, 'Escape Velocity': 10.4, 'Rotation Period': -5832.5, 'Length of Day': 2802.0, 'Distance from Sun': 108.2, 'Perihelion': 107.5, 'Aphelion': 108.9, 'Orbital Period': 224.7, 'Orbital Velocity': 35.0, 'Orbital Inclination': 3.4, 'Orbital Eccentricity': 0.006999999999999999, 'Obliquity to Orbit': 177.4, 'Mean Temperature': 464, 'Number of Moons': 0, 'Ring System?': 'No'}, {'Planet': 'Earth', 'Mass': 5.97, 'Diameter': 12756, 'Density': 5514, 'Gravity': 9.8, 'Escape Velocity': 11.2, 'Rotation Period': 23.9, 'Length of Day': 24.0, 'Distance from Sun': 149.6, 'Perihelion': 147.1, 'Aphelion': 152.1, 'Orbital Period': 365.2, 'Orbital Velocity': 29.8, 'Orbital Inclination': 0.0, 'Orbital Eccentricity': 0.017, 'Obliquity to Orbit': 23.4, 'Mean Temperature': 15, 'Number of Moons': 1, 'Ring System?': 'No'}, {'Planet': 'Mars', 'Mass': 0.642, 'Diameter': 6792, 'Density': 3933, 'Gravity': 3.7, 'Escape Velocity': 5.0, 'Rotation Period': 24.6, 'Length of Day': 24.7, 'Distance from Sun': 227.9, 'Perihelion': 206.6, 'Aphelion': 249.2, 'Orbital Period': 687.0, 'Orbital Velocity': 24.1, 'Orbital Inclination': 1.9, 'Orbital Eccentricity': 0.094, 'Obliquity to Orbit': 25.2, 'Mean Temperature': -65, 'Number of Moons': 2, 'Ring System?': 'No'}, {'Planet': 'Jupiter', 'Mass': 1898.0, 'Diameter': 142984, 'Density': 1326, 'Gravity': 23.1, 'Escape Velocity': 59.5, 'Rotation Period': 9.9, 'Length of Day': 9.9, 'Distance from Sun': 778.6, 'Perihelion': 740.5, 'Aphelion': 816.6, 'Orbital Period': 4331.0, 'Orbital Velocity': 13.1, 'Orbital Inclination': 1.3, 'Orbital Eccentricity': 0.049, 'Obliquity to Orbit': 3.1, 'Mean Temperature': -110, 'Number of Moons': 79, 'Ring System?': 'Yes'}, {'Planet': 'Saturn', 'Mass': 568.0, 'Diameter': 120536, 'Density': 687, 'Gravity': 9.0, 'Escape Velocity': 35.5, 'Rotation Period': 10.7, 'Length of Day': 10.7, 'Distance from Sun': 1433.5, 'Perihelion': 1352.6, 'Aphelion': 1514.5, 'Orbital Period': 10747.0, 'Orbital Velocity': 9.7, 'Orbital Inclination': 2.5, 'Orbital Eccentricity': 0.057, 'Obliquity to Orbit': 26.7, 'Mean Temperature': -140, 'Number of Moons': 82, 'Ring System?': 'Yes'}, {'Planet': 'Uranus', 'Mass': 86.8, 'Diameter': 51118, 'Density': 1271, 'Gravity': 8.7, 'Escape Velocity': 21.3, 'Rotation Period': -17.2, 'Length of Day': 17.2, 'Distance from Sun': 2872.5, 'Perihelion': 2741.3, 'Aphelion': 3003.6, 'Orbital Period': 30589.0, 'Orbital Velocity': 6.8, 'Orbital Inclination': 0.8, 'Orbital Eccentricity': 0.046, 'Obliquity to Orbit': 97.8, 'Mean Temperature': -195, 'Number of Moons': 27, 'Ring System?': 'Yes'}, {'Planet': 'Neptune', 'Mass': 102.0, 'Diameter': 49528, 'Density': 1638, 'Gravity': 11.0, 'Escape Velocity': 23.5, 'Rotation Period': 16.1, 'Length of Day': 16.1, 'Distance from Sun': 4495.1, 'Perihelion': 4444.5, 'Aphelion': 4545.7, 'Orbital Period': 59800.0, 'Orbital Velocity': 5.4, 'Orbital Inclination': 1.8, 'Orbital Eccentricity': 0.011000000000000001, 'Obliquity to Orbit': 28.3, 'Mean Temperature': -200, 'Number of Moons': 14, 'Ring System?': 'Yes'}, {'Planet': 'Pluto', 'Mass': 0.0146, 'Diameter': 2370, 'Density': 2095, 'Gravity': 0.7, 'Escape Velocity': 1.3, 'Rotation Period': -153.3, 'Length of Day': 153.3, 'Distance from Sun': 5906.4, 'Perihelion': 4436.8, 'Aphelion': 7375.9, 'Orbital Period': 90560.0, 'Orbital Velocity': 4.7, 'Orbital Inclination': 17.2, 'Orbital Eccentricity': 0.244, 'Obliquity to Orbit': 122.5, 'Mean Temperature': -225, 'Number of Moons': 5, 'Ring System?': 'No'})]\n(Background on this error at: http://sqlalche.me/e/13/gkpj)"
     ]
    }
   ],
   "source": [
    "fact_db.to_sql(name='facts', con=engine, if_exists='append', index=True)"
   ]
  },
  {
   "cell_type": "code",
   "execution_count": null,
   "metadata": {},
   "outputs": [],
   "source": []
  }
 ]
}