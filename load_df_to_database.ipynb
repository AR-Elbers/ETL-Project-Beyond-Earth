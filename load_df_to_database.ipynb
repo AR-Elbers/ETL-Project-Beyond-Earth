{
 "metadata": {
  "language_info": {
   "codemirror_mode": {
    "name": "ipython",
    "version": 3
   },
   "file_extension": ".py",
   "mimetype": "text/x-python",
   "name": "python",
   "nbconvert_exporter": "python",
   "pygments_lexer": "ipython3",
   "version": "3.8.3-final"
  },
  "orig_nbformat": 2,
  "kernelspec": {
   "name": "python3",
   "display_name": "Python 3"
  }
 },
 "nbformat": 4,
 "nbformat_minor": 2,
 "cells": [
  {
   "cell_type": "code",
   "execution_count": 1,
   "metadata": {},
   "outputs": [],
   "source": [
    "import pandas as pd\n",
    "from sqlalchemy import create_engine, inspect\n",
    "from config import username, password"
   ]
  },
  {
   "cell_type": "code",
   "execution_count": 42,
   "metadata": {},
   "outputs": [],
   "source": [
    "# pip install psycopg2"
   ]
  },
  {
   "cell_type": "code",
   "execution_count": 2,
   "metadata": {},
   "outputs": [
    {
     "output_type": "execute_result",
     "data": {
      "text/plain": [
       "    Planet      Mass  Diameter  Density  Gravity  Escape Velocity  \\\n",
       "0  Mercury     0.330      4879     5427      3.7              4.3   \n",
       "1    Venus     4.870     12104     5243      8.9             10.4   \n",
       "2    Earth     5.970     12756     5514      9.8             11.2   \n",
       "3     Mars     0.642      6792     3933      3.7              5.0   \n",
       "4  Jupiter  1898.000    142984     1326     23.1             59.5   \n",
       "\n",
       "   Rotation Period  Length of Day  Distance from Sun  Perihelion  Aphelion  \\\n",
       "0           1407.6         4222.6               57.9        46.0      69.8   \n",
       "1          -5832.5         2802.0              108.2       107.5     108.9   \n",
       "2             23.9           24.0              149.6       147.1     152.1   \n",
       "3             24.6           24.7              227.9       206.6     249.2   \n",
       "4              9.9            9.9              778.6       740.5     816.6   \n",
       "\n",
       "   Orbital Period  Orbital Velocity  Orbital Inclination  \\\n",
       "0            88.0              47.4                  7.0   \n",
       "1           224.7              35.0                  3.4   \n",
       "2           365.2              29.8                  0.0   \n",
       "3           687.0              24.1                  1.9   \n",
       "4          4331.0              13.1                  1.3   \n",
       "\n",
       "   Orbital Eccentricity  Obliquity to Orbit  Mean Temperature  \\\n",
       "0                 0.205               0.034               167   \n",
       "1                 0.007             177.400               464   \n",
       "2                 0.017              23.400                15   \n",
       "3                 0.094              25.200               -65   \n",
       "4                 0.049               3.100              -110   \n",
       "\n",
       "   Number of Moons Ring System?  \n",
       "0                0           No  \n",
       "1                0           No  \n",
       "2                1           No  \n",
       "3                2           No  \n",
       "4               79          Yes  "
      ],
      "text/html": "<div>\n<style scoped>\n    .dataframe tbody tr th:only-of-type {\n        vertical-align: middle;\n    }\n\n    .dataframe tbody tr th {\n        vertical-align: top;\n    }\n\n    .dataframe thead th {\n        text-align: right;\n    }\n</style>\n<table border=\"1\" class=\"dataframe\">\n  <thead>\n    <tr style=\"text-align: right;\">\n      <th></th>\n      <th>Planet</th>\n      <th>Mass</th>\n      <th>Diameter</th>\n      <th>Density</th>\n      <th>Gravity</th>\n      <th>Escape Velocity</th>\n      <th>Rotation Period</th>\n      <th>Length of Day</th>\n      <th>Distance from Sun</th>\n      <th>Perihelion</th>\n      <th>Aphelion</th>\n      <th>Orbital Period</th>\n      <th>Orbital Velocity</th>\n      <th>Orbital Inclination</th>\n      <th>Orbital Eccentricity</th>\n      <th>Obliquity to Orbit</th>\n      <th>Mean Temperature</th>\n      <th>Number of Moons</th>\n      <th>Ring System?</th>\n    </tr>\n  </thead>\n  <tbody>\n    <tr>\n      <th>0</th>\n      <td>Mercury</td>\n      <td>0.330</td>\n      <td>4879</td>\n      <td>5427</td>\n      <td>3.7</td>\n      <td>4.3</td>\n      <td>1407.6</td>\n      <td>4222.6</td>\n      <td>57.9</td>\n      <td>46.0</td>\n      <td>69.8</td>\n      <td>88.0</td>\n      <td>47.4</td>\n      <td>7.0</td>\n      <td>0.205</td>\n      <td>0.034</td>\n      <td>167</td>\n      <td>0</td>\n      <td>No</td>\n    </tr>\n    <tr>\n      <th>1</th>\n      <td>Venus</td>\n      <td>4.870</td>\n      <td>12104</td>\n      <td>5243</td>\n      <td>8.9</td>\n      <td>10.4</td>\n      <td>-5832.5</td>\n      <td>2802.0</td>\n      <td>108.2</td>\n      <td>107.5</td>\n      <td>108.9</td>\n      <td>224.7</td>\n      <td>35.0</td>\n      <td>3.4</td>\n      <td>0.007</td>\n      <td>177.400</td>\n      <td>464</td>\n      <td>0</td>\n      <td>No</td>\n    </tr>\n    <tr>\n      <th>2</th>\n      <td>Earth</td>\n      <td>5.970</td>\n      <td>12756</td>\n      <td>5514</td>\n      <td>9.8</td>\n      <td>11.2</td>\n      <td>23.9</td>\n      <td>24.0</td>\n      <td>149.6</td>\n      <td>147.1</td>\n      <td>152.1</td>\n      <td>365.2</td>\n      <td>29.8</td>\n      <td>0.0</td>\n      <td>0.017</td>\n      <td>23.400</td>\n      <td>15</td>\n      <td>1</td>\n      <td>No</td>\n    </tr>\n    <tr>\n      <th>3</th>\n      <td>Mars</td>\n      <td>0.642</td>\n      <td>6792</td>\n      <td>3933</td>\n      <td>3.7</td>\n      <td>5.0</td>\n      <td>24.6</td>\n      <td>24.7</td>\n      <td>227.9</td>\n      <td>206.6</td>\n      <td>249.2</td>\n      <td>687.0</td>\n      <td>24.1</td>\n      <td>1.9</td>\n      <td>0.094</td>\n      <td>25.200</td>\n      <td>-65</td>\n      <td>2</td>\n      <td>No</td>\n    </tr>\n    <tr>\n      <th>4</th>\n      <td>Jupiter</td>\n      <td>1898.000</td>\n      <td>142984</td>\n      <td>1326</td>\n      <td>23.1</td>\n      <td>59.5</td>\n      <td>9.9</td>\n      <td>9.9</td>\n      <td>778.6</td>\n      <td>740.5</td>\n      <td>816.6</td>\n      <td>4331.0</td>\n      <td>13.1</td>\n      <td>1.3</td>\n      <td>0.049</td>\n      <td>3.100</td>\n      <td>-110</td>\n      <td>79</td>\n      <td>Yes</td>\n    </tr>\n  </tbody>\n</table>\n</div>"
     },
     "metadata": {},
     "execution_count": 2
    }
   ],
   "source": [
    "fact_file = \"Transformed_Data/planetary_fact_sheet_transformed.csv\"\n",
    "fact_df = pd.read_csv(fact_file)\n",
    "fact_df.head()"
   ]
  },
  {
   "cell_type": "code",
   "execution_count": 3,
   "metadata": {},
   "outputs": [
    {
     "output_type": "execute_result",
     "data": {
      "text/plain": [
       "              Mass  Diameter  Density  Gravity  Escape Velocity  \\\n",
       "Planet                                                            \n",
       "Mercury     0.3300      4879     5427      3.7              4.3   \n",
       "Venus       4.8700     12104     5243      8.9             10.4   \n",
       "Earth       5.9700     12756     5514      9.8             11.2   \n",
       "Mars        0.6420      6792     3933      3.7              5.0   \n",
       "Jupiter  1898.0000    142984     1326     23.1             59.5   \n",
       "Saturn    568.0000    120536      687      9.0             35.5   \n",
       "Uranus     86.8000     51118     1271      8.7             21.3   \n",
       "Neptune   102.0000     49528     1638     11.0             23.5   \n",
       "Pluto       0.0146      2370     2095      0.7              1.3   \n",
       "\n",
       "         Rotation Period  Length of Day  Distance from Sun  Perihelion  \\\n",
       "Planet                                                                   \n",
       "Mercury           1407.6         4222.6               57.9        46.0   \n",
       "Venus            -5832.5         2802.0              108.2       107.5   \n",
       "Earth               23.9           24.0              149.6       147.1   \n",
       "Mars                24.6           24.7              227.9       206.6   \n",
       "Jupiter              9.9            9.9              778.6       740.5   \n",
       "Saturn              10.7           10.7             1433.5      1352.6   \n",
       "Uranus             -17.2           17.2             2872.5      2741.3   \n",
       "Neptune             16.1           16.1             4495.1      4444.5   \n",
       "Pluto             -153.3          153.3             5906.4      4436.8   \n",
       "\n",
       "         Aphelion  Orbital Period  Orbital Velocity  Orbital Inclination  \\\n",
       "Planet                                                                     \n",
       "Mercury      69.8            88.0              47.4                  7.0   \n",
       "Venus       108.9           224.7              35.0                  3.4   \n",
       "Earth       152.1           365.2              29.8                  0.0   \n",
       "Mars        249.2           687.0              24.1                  1.9   \n",
       "Jupiter     816.6          4331.0              13.1                  1.3   \n",
       "Saturn     1514.5         10747.0               9.7                  2.5   \n",
       "Uranus     3003.6         30589.0               6.8                  0.8   \n",
       "Neptune    4545.7         59800.0               5.4                  1.8   \n",
       "Pluto      7375.9         90560.0               4.7                 17.2   \n",
       "\n",
       "         Orbital Eccentricity  Obliquity to Orbit  Mean Temperature  \\\n",
       "Planet                                                                \n",
       "Mercury                 0.205               0.034               167   \n",
       "Venus                   0.007             177.400               464   \n",
       "Earth                   0.017              23.400                15   \n",
       "Mars                    0.094              25.200               -65   \n",
       "Jupiter                 0.049               3.100              -110   \n",
       "Saturn                  0.057              26.700              -140   \n",
       "Uranus                  0.046              97.800              -195   \n",
       "Neptune                 0.011              28.300              -200   \n",
       "Pluto                   0.244             122.500              -225   \n",
       "\n",
       "         Number of Moons Ring System?  \n",
       "Planet                                 \n",
       "Mercury                0           No  \n",
       "Venus                  0           No  \n",
       "Earth                  1           No  \n",
       "Mars                   2           No  \n",
       "Jupiter               79          Yes  \n",
       "Saturn                82          Yes  \n",
       "Uranus                27          Yes  \n",
       "Neptune               14          Yes  \n",
       "Pluto                  5           No  "
      ],
      "text/html": "<div>\n<style scoped>\n    .dataframe tbody tr th:only-of-type {\n        vertical-align: middle;\n    }\n\n    .dataframe tbody tr th {\n        vertical-align: top;\n    }\n\n    .dataframe thead th {\n        text-align: right;\n    }\n</style>\n<table border=\"1\" class=\"dataframe\">\n  <thead>\n    <tr style=\"text-align: right;\">\n      <th></th>\n      <th>Mass</th>\n      <th>Diameter</th>\n      <th>Density</th>\n      <th>Gravity</th>\n      <th>Escape Velocity</th>\n      <th>Rotation Period</th>\n      <th>Length of Day</th>\n      <th>Distance from Sun</th>\n      <th>Perihelion</th>\n      <th>Aphelion</th>\n      <th>Orbital Period</th>\n      <th>Orbital Velocity</th>\n      <th>Orbital Inclination</th>\n      <th>Orbital Eccentricity</th>\n      <th>Obliquity to Orbit</th>\n      <th>Mean Temperature</th>\n      <th>Number of Moons</th>\n      <th>Ring System?</th>\n    </tr>\n    <tr>\n      <th>Planet</th>\n      <th></th>\n      <th></th>\n      <th></th>\n      <th></th>\n      <th></th>\n      <th></th>\n      <th></th>\n      <th></th>\n      <th></th>\n      <th></th>\n      <th></th>\n      <th></th>\n      <th></th>\n      <th></th>\n      <th></th>\n      <th></th>\n      <th></th>\n      <th></th>\n    </tr>\n  </thead>\n  <tbody>\n    <tr>\n      <th>Mercury</th>\n      <td>0.3300</td>\n      <td>4879</td>\n      <td>5427</td>\n      <td>3.7</td>\n      <td>4.3</td>\n      <td>1407.6</td>\n      <td>4222.6</td>\n      <td>57.9</td>\n      <td>46.0</td>\n      <td>69.8</td>\n      <td>88.0</td>\n      <td>47.4</td>\n      <td>7.0</td>\n      <td>0.205</td>\n      <td>0.034</td>\n      <td>167</td>\n      <td>0</td>\n      <td>No</td>\n    </tr>\n    <tr>\n      <th>Venus</th>\n      <td>4.8700</td>\n      <td>12104</td>\n      <td>5243</td>\n      <td>8.9</td>\n      <td>10.4</td>\n      <td>-5832.5</td>\n      <td>2802.0</td>\n      <td>108.2</td>\n      <td>107.5</td>\n      <td>108.9</td>\n      <td>224.7</td>\n      <td>35.0</td>\n      <td>3.4</td>\n      <td>0.007</td>\n      <td>177.400</td>\n      <td>464</td>\n      <td>0</td>\n      <td>No</td>\n    </tr>\n    <tr>\n      <th>Earth</th>\n      <td>5.9700</td>\n      <td>12756</td>\n      <td>5514</td>\n      <td>9.8</td>\n      <td>11.2</td>\n      <td>23.9</td>\n      <td>24.0</td>\n      <td>149.6</td>\n      <td>147.1</td>\n      <td>152.1</td>\n      <td>365.2</td>\n      <td>29.8</td>\n      <td>0.0</td>\n      <td>0.017</td>\n      <td>23.400</td>\n      <td>15</td>\n      <td>1</td>\n      <td>No</td>\n    </tr>\n    <tr>\n      <th>Mars</th>\n      <td>0.6420</td>\n      <td>6792</td>\n      <td>3933</td>\n      <td>3.7</td>\n      <td>5.0</td>\n      <td>24.6</td>\n      <td>24.7</td>\n      <td>227.9</td>\n      <td>206.6</td>\n      <td>249.2</td>\n      <td>687.0</td>\n      <td>24.1</td>\n      <td>1.9</td>\n      <td>0.094</td>\n      <td>25.200</td>\n      <td>-65</td>\n      <td>2</td>\n      <td>No</td>\n    </tr>\n    <tr>\n      <th>Jupiter</th>\n      <td>1898.0000</td>\n      <td>142984</td>\n      <td>1326</td>\n      <td>23.1</td>\n      <td>59.5</td>\n      <td>9.9</td>\n      <td>9.9</td>\n      <td>778.6</td>\n      <td>740.5</td>\n      <td>816.6</td>\n      <td>4331.0</td>\n      <td>13.1</td>\n      <td>1.3</td>\n      <td>0.049</td>\n      <td>3.100</td>\n      <td>-110</td>\n      <td>79</td>\n      <td>Yes</td>\n    </tr>\n    <tr>\n      <th>Saturn</th>\n      <td>568.0000</td>\n      <td>120536</td>\n      <td>687</td>\n      <td>9.0</td>\n      <td>35.5</td>\n      <td>10.7</td>\n      <td>10.7</td>\n      <td>1433.5</td>\n      <td>1352.6</td>\n      <td>1514.5</td>\n      <td>10747.0</td>\n      <td>9.7</td>\n      <td>2.5</td>\n      <td>0.057</td>\n      <td>26.700</td>\n      <td>-140</td>\n      <td>82</td>\n      <td>Yes</td>\n    </tr>\n    <tr>\n      <th>Uranus</th>\n      <td>86.8000</td>\n      <td>51118</td>\n      <td>1271</td>\n      <td>8.7</td>\n      <td>21.3</td>\n      <td>-17.2</td>\n      <td>17.2</td>\n      <td>2872.5</td>\n      <td>2741.3</td>\n      <td>3003.6</td>\n      <td>30589.0</td>\n      <td>6.8</td>\n      <td>0.8</td>\n      <td>0.046</td>\n      <td>97.800</td>\n      <td>-195</td>\n      <td>27</td>\n      <td>Yes</td>\n    </tr>\n    <tr>\n      <th>Neptune</th>\n      <td>102.0000</td>\n      <td>49528</td>\n      <td>1638</td>\n      <td>11.0</td>\n      <td>23.5</td>\n      <td>16.1</td>\n      <td>16.1</td>\n      <td>4495.1</td>\n      <td>4444.5</td>\n      <td>4545.7</td>\n      <td>59800.0</td>\n      <td>5.4</td>\n      <td>1.8</td>\n      <td>0.011</td>\n      <td>28.300</td>\n      <td>-200</td>\n      <td>14</td>\n      <td>Yes</td>\n    </tr>\n    <tr>\n      <th>Pluto</th>\n      <td>0.0146</td>\n      <td>2370</td>\n      <td>2095</td>\n      <td>0.7</td>\n      <td>1.3</td>\n      <td>-153.3</td>\n      <td>153.3</td>\n      <td>5906.4</td>\n      <td>4436.8</td>\n      <td>7375.9</td>\n      <td>90560.0</td>\n      <td>4.7</td>\n      <td>17.2</td>\n      <td>0.244</td>\n      <td>122.500</td>\n      <td>-225</td>\n      <td>5</td>\n      <td>No</td>\n    </tr>\n  </tbody>\n</table>\n</div>"
     },
     "metadata": {},
     "execution_count": 3
    }
   ],
   "source": [
    "fact_db = fact_df.set_index('Planet')\n",
    "fact_db"
   ]
  },
  {
   "cell_type": "code",
   "execution_count": 6,
   "metadata": {},
   "outputs": [],
   "source": [
    "connection_string = f\"{username}:{password}@localhost:5432/beyond_earth\"\n",
    "engine = create_engine(f'postgresql://{connection_string}')"
   ]
  },
  {
   "cell_type": "code",
   "execution_count": 7,
   "metadata": {},
   "outputs": [
    {
     "output_type": "stream",
     "name": "stdout",
     "text": [
      "{'name': 'Planet', 'type': VARCHAR(), 'nullable': False, 'default': None, 'autoincrement': False, 'comment': None}\n{'name': 'Mass', 'type': NUMERIC(precision=18, scale=4), 'nullable': False, 'default': None, 'autoincrement': False, 'comment': None}\n{'name': 'Diameter', 'type': INTEGER(), 'nullable': False, 'default': None, 'autoincrement': False, 'comment': None}\n{'name': 'Density', 'type': INTEGER(), 'nullable': False, 'default': None, 'autoincrement': False, 'comment': None}\n{'name': 'Gravity', 'type': NUMERIC(precision=18, scale=1), 'nullable': False, 'default': None, 'autoincrement': False, 'comment': None}\n{'name': 'Escape Velocity', 'type': NUMERIC(precision=18, scale=1), 'nullable': False, 'default': None, 'autoincrement': False, 'comment': None}\n{'name': 'Rotation Period', 'type': NUMERIC(precision=18, scale=1), 'nullable': False, 'default': None, 'autoincrement': False, 'comment': None}\n{'name': 'Length of Day', 'type': NUMERIC(precision=18, scale=1), 'nullable': False, 'default': None, 'autoincrement': False, 'comment': None}\n{'name': 'Distance from Sun', 'type': NUMERIC(precision=18, scale=1), 'nullable': False, 'default': None, 'autoincrement': False, 'comment': None}\n{'name': 'Perihelion', 'type': NUMERIC(precision=18, scale=1), 'nullable': False, 'default': None, 'autoincrement': False, 'comment': None}\n{'name': 'Aphelion', 'type': NUMERIC(precision=18, scale=1), 'nullable': False, 'default': None, 'autoincrement': False, 'comment': None}\n{'name': 'Orbital Period', 'type': NUMERIC(precision=18, scale=1), 'nullable': False, 'default': None, 'autoincrement': False, 'comment': None}\n{'name': 'Orbital Velocity', 'type': NUMERIC(precision=18, scale=1), 'nullable': False, 'default': None, 'autoincrement': False, 'comment': None}\n{'name': 'Orbital Inclination', 'type': NUMERIC(precision=18, scale=1), 'nullable': False, 'default': None, 'autoincrement': False, 'comment': None}\n{'name': 'Orbital Eccentricity', 'type': NUMERIC(precision=18, scale=3), 'nullable': False, 'default': None, 'autoincrement': False, 'comment': None}\n{'name': 'Obliquity to Orbit', 'type': NUMERIC(precision=18, scale=3), 'nullable': False, 'default': None, 'autoincrement': False, 'comment': None}\n{'name': 'Mean Temperature', 'type': INTEGER(), 'nullable': False, 'default': None, 'autoincrement': False, 'comment': None}\n{'name': 'Number of Moons', 'type': INTEGER(), 'nullable': False, 'default': None, 'autoincrement': False, 'comment': None}\n{'name': 'Ring System?', 'type': BOOLEAN(), 'nullable': False, 'default': None, 'autoincrement': False, 'comment': None}\n"
     ]
    }
   ],
   "source": [
    "inspector=inspect(engine)\n",
    "columns=inspector.get_columns('planet_fact_sheet')\n",
    "for column in columns:\n",
    "    print(column)"
   ]
  },
  {
   "cell_type": "code",
   "execution_count": 9,
   "metadata": {},
   "outputs": [
    {
     "output_type": "execute_result",
     "data": {
      "text/plain": [
       "['planet_fact_sheet']"
      ]
     },
     "metadata": {},
     "execution_count": 9
    }
   ],
   "source": [
    "engine.table_names()"
   ]
  },
  {
   "cell_type": "code",
   "execution_count": 10,
   "metadata": {},
   "outputs": [],
   "source": [
    "fact_db.to_sql(name='planet_fact_sheet', con=engine, if_exists='append', index=True)"
   ]
  },
  {
   "cell_type": "code",
   "execution_count": null,
   "metadata": {},
   "outputs": [],
   "source": []
  }
 ]
}